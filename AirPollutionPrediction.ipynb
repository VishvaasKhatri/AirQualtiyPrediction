{
 "cells": [
  {
   "cell_type": "code",
   "execution_count": 2,
   "metadata": {},
   "outputs": [
    {
     "name": "stdout",
     "output_type": "stream",
     "text": [
      "Index(['Good', 'Satisfactory', 'Moderately Polluted', 'Poor', 'Very Poor',\n",
      "       'Severe'],\n",
      "      dtype='object')\n",
      "[0 1 2 3 4 5]\n",
      "Misclassified samples: 3\n",
      "Accuracy: 0.99\n"
     ]
    },
    {
     "data": {
      "text/plain": [
       "'Source.gv.pdf'"
      ]
     },
     "execution_count": 2,
     "metadata": {},
     "output_type": "execute_result"
    }
   ],
   "source": [
    "import os\n",
    "import sys\n",
    "sys.path.append('my/path/to/module/folder')\n",
    "import numpy as np\n",
    "import pandas as pd\n",
    "import numpy as np, pandas as pd\n",
    "import matplotlib.pyplot as plt\n",
    "from sklearn.model_selection import train_test_split\n",
    "from sklearn import tree, metrics\n",
    "import graphviz\n",
    "import pydotplus\n",
    "from IPython.display import Image\n",
    "\n",
    "\n",
    "data = pd.read_csv('E:\\college\\Datamining\\Project\\without_headers_dataset.csv',names=['SO2','NO2','RSPM/PM','PM2.5','AQI','RESULT'])\n",
    "#print(data.head())\n",
    "#data.info()\n",
    "data['RESULT'], result_names = pd.factorize(data['RESULT'])\n",
    "print(result_names)\n",
    "print(data['RESULT'].unique())\n",
    "\n",
    "X = data.iloc[:,:-1]\n",
    "y = data.iloc[:,-1]\n",
    "\n",
    "# split data randomly into 70% training and 30% test\n",
    "X_train, X_test, y_train, y_test =train_test_split(X, y, test_size=0.3, random_state=0)\n",
    "\n",
    "# train the decision tree\n",
    "dtree = tree.DecisionTreeClassifier(criterion='entropy', max_depth=3, random_state=0)\n",
    "dtree.fit(X_train, y_train)\n",
    "# use the model to make predictions with the test data\n",
    "y_pred = dtree.predict(X_test)\n",
    "# how did our model perform?\n",
    "count_misclassified = (y_test != y_pred).sum()\n",
    "print('Misclassified samples: {}'.format(count_misclassified))\n",
    "accuracy = metrics.accuracy_score(y_test, y_pred)\n",
    "print('Accuracy: {:.2f}'.format(accuracy))\n",
    "feature_names = X.columns\n",
    "dot_data = tree.export_graphviz(dtree, out_file=None, filled=True, rounded=True,\n",
    "                                feature_names=feature_names,\n",
    "                                class_names=result_names)\n",
    "graphviz.Source(dot_data).view()\n"
   ]
  },
  {
   "cell_type": "code",
   "execution_count": null,
   "metadata": {},
   "outputs": [],
   "source": []
  }
 ],
 "metadata": {
  "kernelspec": {
   "display_name": "Python 3",
   "language": "python",
   "name": "python3"
  },
  "language_info": {
   "codemirror_mode": {
    "name": "ipython",
    "version": 3
   },
   "file_extension": ".py",
   "mimetype": "text/x-python",
   "name": "python",
   "nbconvert_exporter": "python",
   "pygments_lexer": "ipython3",
   "version": "3.7.0"
  }
 },
 "nbformat": 4,
 "nbformat_minor": 2
}
